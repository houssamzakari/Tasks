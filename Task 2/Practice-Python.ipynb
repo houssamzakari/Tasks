{
 "cells": [
  {
   "cell_type": "markdown",
   "metadata": {},
   "source": [
    "\n",
    "<h1> Exercise 1 </h1>"
   ]
  },
  {
   "cell_type": "code",
   "execution_count": null,
   "metadata": {},
   "outputs": [],
   "source": [
    "while True:\n",
    "    try:\n",
    "        Name = input (\"Please enter your Name :\")\n",
    "        Age = int(input(\"Please enter your Age : \"))\n",
    "    except ValueError:\n",
    "        print(\"Try Again !!!\")\n",
    "        continue\n",
    "    else:\n",
    "        if (Name.isalpha() ) and (0 <Age< 100 ):\n",
    "            Message = 100 - Age\n",
    "            print (\"You will turn 100 in\",Message,\"years\")\n",
    "            break\n",
    "            \n",
    "while True:\n",
    "    try:\n",
    "        Copy = int(input(\"Please enter a number : \"))\n",
    "    except ValueError:\n",
    "        print(\"Try Again !!!\")\n",
    "        continue\n",
    "    else:\n",
    "        while Copy > 1:\n",
    "            print (\"You will turn 100 in\",Message,\"years\")\n",
    "            Copy -= 1             \n",
    "    break\n",
    "\n"
   ]
  },
  {
   "cell_type": "markdown",
   "metadata": {},
   "source": [
    "<h1> Exercise 2 </h1>"
   ]
  },
  {
   "cell_type": "code",
   "execution_count": null,
   "metadata": {},
   "outputs": [],
   "source": [
    "while True:\n",
    "    try:\n",
    "        Number = int(input(\"Please enter a Number : \"))\n",
    "    except ValueError:\n",
    "        print(\"Try Again !!!\")\n",
    "        continue\n",
    "    else: \n",
    "        if Number % 2:\n",
    "            print (\"This number is Odd !!\")\n",
    "        else :\n",
    "            if (Number % 4) == 0:\n",
    "                print (\"This number is a multiple of 4 !!\")\n",
    "            else:\n",
    "                print (\"This number is Even !!\")\n",
    "    break\n",
    "\n",
    "while True:\n",
    "    try:\n",
    "        Number1 = int(input(\"Please enter a Number to check : \"))\n",
    "        Number2 = int(input(\"Please enter a Number to divide by : \"))\n",
    "    except ValueError:\n",
    "        print(\"Try Again !!!\")\n",
    "        continue\n",
    "    else :\n",
    "        if (Number1 / Number2) % 2:\n",
    "            print (Number1,\"does not divide evenly by\",Number2)\n",
    "        else:\n",
    "            print (Number1,\"divides evenly into\",Number2)\n",
    "    break"
   ]
  },
  {
   "cell_type": "code",
   "execution_count": null,
   "metadata": {},
   "outputs": [],
   "source": []
  }
 ],
 "metadata": {
  "kernelspec": {
   "display_name": "Python 3",
   "language": "python",
   "name": "python3"
  },
  "language_info": {
   "codemirror_mode": {
    "name": "ipython",
    "version": 3
   },
   "file_extension": ".py",
   "mimetype": "text/x-python",
   "name": "python",
   "nbconvert_exporter": "python",
   "pygments_lexer": "ipython3",
   "version": "3.8.5"
  }
 },
 "nbformat": 4,
 "nbformat_minor": 4
}
