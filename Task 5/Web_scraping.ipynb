{
 "cells": [
  {
   "cell_type": "markdown",
   "metadata": {
    "ExecuteTime": {
     "end_time": "2021-05-02T17:45:35.928641Z",
     "start_time": "2021-05-02T17:45:35.910823Z"
    }
   },
   "source": [
    "   <h1> Web Scraping </h1>"
   ]
  },
  {
   "cell_type": "code",
   "execution_count": 7,
   "metadata": {
    "ExecuteTime": {
     "end_time": "2021-05-02T17:43:38.582372Z",
     "start_time": "2021-05-02T17:43:37.937746Z"
    }
   },
   "outputs": [
    {
     "name": "stdout",
     "output_type": "stream",
     "text": [
      "Python Tutorial: Zip Files – Creating and Extracting Zip Archives In this video, we will be learning how to create and extract zip archives. We will start by using the zipfile module, and then we will see how to do this using the shutil module. We will learn how to do this with single files and directories, as well as learning how to use gzip as well. Let’s get started… https://www.youtube.com/watch?v=z0gguhEmWiY \n",
      "\n",
      "Python Data Science Tutorial: Analyzing the 2019 Stack Overflow Developer Survey In this Python Programming video, we will be learning how to download and analyze real-world data from the 2019 Stack Overflow Developer Survey. This is terrific practice for anyone getting into the data science field. We will learn different ways to analyze this data and also some best practices. Let’s get started… https://www.youtube.com/watch?v=_P7X8tMplsw \n",
      "\n",
      "Python Multiprocessing Tutorial: Run Code in Parallel Using the Multiprocessing Module In this Python Programming video, we will be learning how to run code in parallel using the multiprocessing module. We will also look at how to process multiple high-resolution images at the same time using a ProcessPoolExecutor from the concurrent.futures module. Let’s get started… https://www.youtube.com/watch?v=fKl2JW_qrso \n",
      "\n",
      "Python Threading Tutorial: Run Code Concurrently Using the Threading Module In this Python Programming video, we will be learning how to run threads concurrently using the threading module. We will also look at how to download multiple high-resolution images online using a ThreadPoolExecutor from the concurrent.futures module. Let’s get started… https://www.youtube.com/watch?v=IEEhzQoKtQU \n",
      "\n",
      "Python Quick Tip: The Difference Between “==” and “is” (Equality vs Identity) In this Python Programming Tutorial, we will be learning the difference between using “==” and the “is” keyword when doing comparisons. The difference between these is that “==” checks to see if values are equal, and the “is” keyword checks their identity, which means it’s going to check if the values are identical in terms of being the same object in memory. We’ll learn more in the video. Let’s get started… https://www.youtube.com/watch?v=mO_dS3rXDIs \n",
      "\n",
      "Python Tutorial: Calling External Commands Using the Subprocess Module In this Python Programming Tutorial, we will be learning how to run external commands using the subprocess module from the standard library. We will learn how to run commands, capture the output, handle errors, and also how to pipe output into other commands. Let’s get started… https://www.youtube.com/watch?v=2Fp1N6dof0Y \n",
      "\n",
      "Visual Studio Code (Windows) – Setting up a Python Development Environment and Complete Overview In this Python Programming Tutorial, we will be learning how to set up a Python development environment in VSCode on Windows. VSCode is a very nice free editor for writing Python applications and many developers are now switching over to this editor. In this video, we will learn how to install VSCode, get the Python extension installed, how to change Python interpreters, create virtual environments, format/lint our code, how to use Git within VSCode, how to debug our programs, how unit testing works, and more. We have a lot to cover, so let’s go ahead and get started… https://www.youtube.com/watch?v=-nh9rCzPJ20 \n",
      "\n",
      "Visual Studio Code (Mac) – Setting up a Python Development Environment and Complete Overview In this Python Programming Tutorial, we will be learning how to set up a Python development environment in VSCode on MacOS. VSCode is a very nice free editor for writing Python applications and many developers are now switching over to this editor. In this video, we will learn how to install VSCode, get the Python extension installed, how to change Python interpreters, create virtual environments, format/lint our code, how to use Git within VSCode, how to debug our programs, how unit testing works, and more. We have a lot to cover, so let’s go ahead and get started… https://www.youtube.com/watch?v=06I63_p-2A4 \n",
      "\n",
      "Clarifying the Issues with Mutable Default Arguments In this Python Programming Tutorial, we will be clarifying the issues with mutable default arguments. We discussed this in my last video titled “5 Common Python Mistakes and How to Fix Them”, but I received many comments from people who were still confused. So we will be doing a deeper dive to explain exactly what is going on here. Let’s get started… https://www.youtube.com/watch?v=_JGmemuINww \n",
      "\n"
     ]
    }
   ],
   "source": [
    "import requests\n",
    "from bs4 import BeautifulSoup\n",
    "import csv\n",
    "\n",
    "sources = requests.get(\"http://coreyms.com\").text\n",
    "\n",
    "soup = BeautifulSoup(sources,'lxml')\n",
    "\n",
    "articles = soup.find_all('article')\n",
    "\n",
    "\n",
    "csvfile = open ('scrape.csv','w',encoding='utf-8')\n",
    "csvw = csv.writer(csvfile)\n",
    "\n",
    "\n",
    "for article in articles:\n",
    "    \n",
    "    headline = article.h2.a.text\n",
    "\n",
    "\n",
    "    summary = article.find('div',class_ = 'entry-content').p.text\n",
    "\n",
    "    try :\n",
    "\n",
    "        vid = article.find('iframe',class_= \"youtube-player\")['src']\n",
    "\n",
    "        vid_id = vid.split('/')\n",
    "\n",
    "        vid_id[4]\n",
    "\n",
    "        video = vid_id[4].split('?')\n",
    "\n",
    "        c = video[0]\n",
    "\n",
    "        ytlink = f'https://www.youtube.com/watch?v={c}'\n",
    "        \n",
    "    except Exception as e:\n",
    "        \n",
    "        continue\n",
    "        \n",
    "    csvw.writerow([headline,summary,ytlink])\n",
    "    \n",
    "    print(headline,summary,ytlink,\"\\n\")\n",
    "    \n",
    "    \n",
    "\n",
    "csvfile.close()"
   ]
  },
  {
   "cell_type": "code",
   "execution_count": null,
   "metadata": {},
   "outputs": [],
   "source": []
  }
 ],
 "metadata": {
  "kernelspec": {
   "display_name": "Python 3",
   "language": "python",
   "name": "python3"
  }
 },
 "nbformat": 4,
 "nbformat_minor": 4
}
