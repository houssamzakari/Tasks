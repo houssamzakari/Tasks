{
 "cells": [
  {
   "cell_type": "code",
   "execution_count": 1,
   "metadata": {},
   "outputs": [
    {
     "name": "stdout",
     "output_type": "stream",
     "text": [
      "Successfully created the directory C:\\Users\\Utilisateur\\Desktop\\Tasks_Instant_AI\\Tasks/Task 1 \n",
      "Successfully created the directory C:\\Users\\Utilisateur\\Desktop\\Tasks_Instant_AI\\Tasks/Task 2 \n",
      "Successfully created the directory C:\\Users\\Utilisateur\\Desktop\\Tasks_Instant_AI\\Tasks/Task 3 \n",
      "Successfully created the directory C:\\Users\\Utilisateur\\Desktop\\Tasks_Instant_AI\\Tasks/Task 4 \n",
      "Successfully created the directory C:\\Users\\Utilisateur\\Desktop\\Tasks_Instant_AI\\Tasks/Task 5 \n",
      "Successfully created the directory C:\\Users\\Utilisateur\\Desktop\\Tasks_Instant_AI\\Tasks/Task 6 \n",
      "Successfully created the directory C:\\Users\\Utilisateur\\Desktop\\Tasks_Instant_AI\\Tasks/Task 7 \n",
      "Successfully created the directory C:\\Users\\Utilisateur\\Desktop\\Tasks_Instant_AI\\Tasks/Task 8 \n",
      "Successfully created the directory C:\\Users\\Utilisateur\\Desktop\\Tasks_Instant_AI\\Tasks/Task 9 \n",
      "Successfully created the directory C:\\Users\\Utilisateur\\Desktop\\Tasks_Instant_AI\\Tasks/Task 10 \n",
      "Successfully created the directory C:\\Users\\Utilisateur\\Desktop\\Tasks_Instant_AI\\Tasks/Task 11 \n",
      "Successfully created the directory C:\\Users\\Utilisateur\\Desktop\\Tasks_Instant_AI\\Tasks/Task 12 \n",
      "Successfully created the directory C:\\Users\\Utilisateur\\Desktop\\Tasks_Instant_AI\\Tasks/Task 13 \n",
      "Successfully created the directory C:\\Users\\Utilisateur\\Desktop\\Tasks_Instant_AI\\Tasks/Task 14 \n",
      "Successfully created the directory C:\\Users\\Utilisateur\\Desktop\\Tasks_Instant_AI\\Tasks/Task 15 \n",
      "Successfully created the directory C:\\Users\\Utilisateur\\Desktop\\Tasks_Instant_AI\\Tasks/Task 16 \n",
      "Successfully created the directory C:\\Users\\Utilisateur\\Desktop\\Tasks_Instant_AI\\Tasks/Task 17 \n",
      "Successfully created the directory C:\\Users\\Utilisateur\\Desktop\\Tasks_Instant_AI\\Tasks/Task 18 \n",
      "Successfully created the directory C:\\Users\\Utilisateur\\Desktop\\Tasks_Instant_AI\\Tasks/Task 19 \n",
      "Successfully created the directory C:\\Users\\Utilisateur\\Desktop\\Tasks_Instant_AI\\Tasks/Task 20 \n",
      "Successfully created the directory C:\\Users\\Utilisateur\\Desktop\\Tasks_Instant_AI\\Tasks/Task 21 \n",
      "Successfully created the directory C:\\Users\\Utilisateur\\Desktop\\Tasks_Instant_AI\\Tasks/Task 22 \n",
      "Successfully created the directory C:\\Users\\Utilisateur\\Desktop\\Tasks_Instant_AI\\Tasks/Task 23 \n",
      "Successfully created the directory C:\\Users\\Utilisateur\\Desktop\\Tasks_Instant_AI\\Tasks/Task 24 \n",
      "Successfully created the directory C:\\Users\\Utilisateur\\Desktop\\Tasks_Instant_AI\\Tasks/Task 25 \n",
      "Successfully created the directory C:\\Users\\Utilisateur\\Desktop\\Tasks_Instant_AI\\Tasks/Task 26 \n",
      "Successfully created the directory C:\\Users\\Utilisateur\\Desktop\\Tasks_Instant_AI\\Tasks/Task 27 \n",
      "Successfully created the directory C:\\Users\\Utilisateur\\Desktop\\Tasks_Instant_AI\\Tasks/Task 28 \n",
      "Successfully created the directory C:\\Users\\Utilisateur\\Desktop\\Tasks_Instant_AI\\Tasks/Task 29 \n",
      "Successfully created the directory C:\\Users\\Utilisateur\\Desktop\\Tasks_Instant_AI\\Tasks/Task 30 \n"
     ]
    }
   ],
   "source": [
    "import os\n",
    "path = os.getcwd()\n",
    "for i in range(1, 31):\n",
    "    try:\n",
    "        newpath = path+ \"/Task \" + str(i)\n",
    "        os.mkdir(newpath)\n",
    "    except OSError:\n",
    "        print (\"Creation of the directory %s failed\" % newpath)\n",
    "    else:\n",
    "        print (\"Successfully created the directory %s \" % newpath)\n",
    "        \n",
    "        "
   ]
  },
  {
   "cell_type": "code",
   "execution_count": null,
   "metadata": {},
   "outputs": [],
   "source": []
  }
 ],
 "metadata": {
  "kernelspec": {
   "display_name": "Python 3",
   "language": "python",
   "name": "python3"
  },
  "language_info": {
   "codemirror_mode": {
    "name": "ipython",
    "version": 3
   },
   "file_extension": ".py",
   "mimetype": "text/x-python",
   "name": "python",
   "nbconvert_exporter": "python",
   "pygments_lexer": "ipython3",
   "version": "3.8.5"
  }
 },
 "nbformat": 4,
 "nbformat_minor": 4
}
